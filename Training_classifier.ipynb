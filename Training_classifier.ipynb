{
  "cells": [
    {
      "cell_type": "markdown",
      "metadata": {
        "id": "view-in-github",
        "colab_type": "text"
      },
      "source": [
        "<a href=\"https://colab.research.google.com/github/KangGao1997/Donkey_car/blob/main/Training_classifier.ipynb\" target=\"_parent\"><img src=\"https://colab.research.google.com/assets/colab-badge.svg\" alt=\"Open In Colab\"/></a>"
      ]
    },
    {
      "cell_type": "code",
      "source": [
        "!nvidia-smi"
      ],
      "metadata": {
        "colab": {
          "base_uri": "https://localhost:8080/"
        },
        "id": "OO5yravdFrit",
        "outputId": "cb43d6a1-e7b1-4757-e075-2e9a311a9dc9"
      },
      "id": "OO5yravdFrit",
      "execution_count": null,
      "outputs": [
        {
          "output_type": "stream",
          "name": "stdout",
          "text": [
            "Mon Apr 24 20:39:17 2023       \n",
            "+-----------------------------------------------------------------------------+\n",
            "| NVIDIA-SMI 525.85.12    Driver Version: 525.85.12    CUDA Version: 12.0     |\n",
            "|-------------------------------+----------------------+----------------------+\n",
            "| GPU  Name        Persistence-M| Bus-Id        Disp.A | Volatile Uncorr. ECC |\n",
            "| Fan  Temp  Perf  Pwr:Usage/Cap|         Memory-Usage | GPU-Util  Compute M. |\n",
            "|                               |                      |               MIG M. |\n",
            "|===============================+======================+======================|\n",
            "|   0  NVIDIA A100-SXM...  Off  | 00000000:00:04.0 Off |                    0 |\n",
            "| N/A   42C    P0    46W / 400W |      0MiB / 40960MiB |      0%      Default |\n",
            "|                               |                      |             Disabled |\n",
            "+-------------------------------+----------------------+----------------------+\n",
            "                                                                               \n",
            "+-----------------------------------------------------------------------------+\n",
            "| Processes:                                                                  |\n",
            "|  GPU   GI   CI        PID   Type   Process name                  GPU Memory |\n",
            "|        ID   ID                                                   Usage      |\n",
            "|=============================================================================|\n",
            "|  No running processes found                                                 |\n",
            "+-----------------------------------------------------------------------------+\n"
          ]
        }
      ]
    },
    {
      "cell_type": "code",
      "source": [
        "!unzip widedata.zip"
      ],
      "metadata": {
        "id": "0VizImrXFoA2"
      },
      "id": "0VizImrXFoA2",
      "execution_count": null,
      "outputs": []
    },
    {
      "cell_type": "markdown",
      "source": [
        "# Load the data"
      ],
      "metadata": {
        "id": "LhbTEUUO6qd-"
      },
      "id": "LhbTEUUO6qd-"
    },
    {
      "cell_type": "code",
      "execution_count": null,
      "id": "643f6b48",
      "metadata": {
        "id": "643f6b48"
      },
      "outputs": [],
      "source": [
        "import numpy as np\n",
        "import glob, os"
      ]
    },
    {
      "cell_type": "code",
      "execution_count": null,
      "id": "f4fed780",
      "metadata": {
        "id": "f4fed780"
      },
      "outputs": [],
      "source": [
        "img_name = []\n",
        "angle = []\n",
        "throttle = []"
      ]
    },
    {
      "cell_type": "code",
      "execution_count": null,
      "id": "940a5bce",
      "metadata": {
        "id": "940a5bce",
        "colab": {
          "base_uri": "https://localhost:8080/"
        },
        "outputId": "00989081-bd91-4a45-f883-be1af41aa279"
      },
      "outputs": [
        {
          "output_type": "execute_result",
          "data": {
            "text/plain": [
              "8739"
            ]
          },
          "metadata": {},
          "execution_count": 3
        }
      ],
      "source": [
        "for file in glob.glob(\"/content/widedata/*.catalog\"):\n",
        "    with open(file) as f:\n",
        "        for line in f:\n",
        "            img_name.append(line.split()[7][1:-2])\n",
        "            angle.append(float(line.split()[9][0:-1]))\n",
        "            throttle.append(float(line.split()[13][0:-1]))\n",
        "\n",
        "len(img_name)"
      ]
    },
    {
      "cell_type": "code",
      "execution_count": null,
      "id": "d46a81a0",
      "metadata": {
        "colab": {
          "base_uri": "https://localhost:8080/"
        },
        "id": "d46a81a0",
        "outputId": "628a199c-6bdd-449c-8fd4-d6d4992f9f0c"
      },
      "outputs": [
        {
          "output_type": "execute_result",
          "data": {
            "text/plain": [
              "(8739, 224, 224, 3)"
            ]
          },
          "metadata": {},
          "execution_count": 4
        }
      ],
      "source": [
        "import cv2\n",
        "image = []\n",
        "for i in range(len(img_name)):\n",
        "    img = cv2.imread(os.path.join(\"/content/widedata/images\",img_name[i]))\n",
        "    image.append(img)\n",
        "    \"\"\"\n",
        "        if img is not None:\n",
        "            images.append(img)\n",
        "    \"\"\"\n",
        "    \n",
        "image = np.array(image)\n",
        "image.shape"
      ]
    },
    {
      "cell_type": "code",
      "source": [
        "import cv2\n",
        "image = []\n",
        "for i in range(len(img_name)):\n",
        "    img = cv2.imread(os.path.join(\"/content/segda\",img_name[i]))\n",
        "    image.append(img)\n",
        "    \"\"\"\n",
        "        if img is not None:\n",
        "            images.append(img)\n",
        "    \"\"\"\n",
        "    \n",
        "image = np.array(image)\n",
        "image.shape"
      ],
      "metadata": {
        "id": "vuXh7KiVKGx5"
      },
      "id": "vuXh7KiVKGx5",
      "execution_count": null,
      "outputs": []
    },
    {
      "cell_type": "code",
      "execution_count": null,
      "id": "dac35fff",
      "metadata": {
        "colab": {
          "base_uri": "https://localhost:8080/"
        },
        "id": "dac35fff",
        "outputId": "aa7e47a4-d0da-4535-d7b1-0ac85dd3c0cd"
      },
      "outputs": [
        {
          "output_type": "execute_result",
          "data": {
            "text/plain": [
              "(224, 224, 3)"
            ]
          },
          "metadata": {},
          "execution_count": 5
        }
      ],
      "source": [
        "#check the imported images\n",
        "import cv2\n",
        "from google.colab.patches import cv2_imshow\n",
        "#cv2_imshow(image[1])\n",
        "image[1].shape"
      ]
    },
    {
      "cell_type": "markdown",
      "source": [
        "# Define the model"
      ],
      "metadata": {
        "id": "KOJG_TJzyt5l"
      },
      "id": "KOJG_TJzyt5l"
    },
    {
      "cell_type": "code",
      "execution_count": null,
      "id": "9ba95436",
      "metadata": {
        "id": "9ba95436"
      },
      "outputs": [],
      "source": [
        "import tensorflow as tf\n",
        "from tensorflow import keras\n",
        "from tensorflow.keras.layers import Input, Dense\n",
        "from tensorflow.keras.layers import Convolution2D, MaxPooling2D, BatchNormalization, SpatialDropout2D\n",
        "from tensorflow.keras.layers import Activation, Dropout, Flatten\n",
        "from tensorflow.keras.layers import LSTM\n",
        "from tensorflow.keras.layers import TimeDistributed as TD\n",
        "from tensorflow.keras.layers import Conv3D, MaxPooling3D, Conv2DTranspose\n",
        "from tensorflow.keras.backend import concatenate\n",
        "from tensorflow.keras.models import Model\n",
        "from tensorflow.python.keras.callbacks import EarlyStopping, ModelCheckpoint"
      ]
    },
    {
      "cell_type": "code",
      "execution_count": null,
      "id": "634ba05d",
      "metadata": {
        "id": "634ba05d"
      },
      "outputs": [],
      "source": [
        "def conv2d(filters, kernel, strides, layer_num, activation='relu'):\n",
        "    \"\"\"\n",
        "    Helper function to create a standard valid-padded convolutional layer\n",
        "    with square kernel and strides and unified naming convention\n",
        "\n",
        "    :param filters:     channel dimension of the layer\n",
        "    :param kernel:      creates (kernel, kernel) kernel matrix dimension\n",
        "    :param strides:     creates (strides, strides) stride\n",
        "    :param layer_num:   used in labelling the layer\n",
        "    :param activation:  activation, defaults to relu\n",
        "    :return:            tf.keras Convolution2D layer\n",
        "    \"\"\"\n",
        "    return Convolution2D(filters=filters,\n",
        "                         kernel_size=(kernel, kernel),\n",
        "                         strides=(strides, strides),\n",
        "                         activation=activation,\n",
        "                         name='conv2d_' + str(layer_num))"
      ]
    },
    {
      "cell_type": "code",
      "execution_count": null,
      "id": "c29f2867",
      "metadata": {
        "id": "c29f2867"
      },
      "outputs": [],
      "source": [
        "def core_cnn_layers(img_in, drop, l4_stride=1):\n",
        "    \"\"\"\n",
        "    Returns the core CNN layers that are shared among the different models,\n",
        "    like linear, imu, behavioural\n",
        "\n",
        "    :param img_in:          input layer of network\n",
        "    :param drop:            dropout rate\n",
        "    :param l4_stride:       4-th layer stride, default 1\n",
        "    :return:                stack of CNN layers\n",
        "    \"\"\"\n",
        "    x = img_in\n",
        "    x = conv2d(24, 5, 2, 1)(x)\n",
        "    x = SpatialDropout2D(drop)(x)\n",
        "    x = conv2d(32, 5, 2, 2)(x)\n",
        "    x = SpatialDropout2D(drop)(x)\n",
        "    x = conv2d(64, 5, 2, 3)(x)\n",
        "    x = SpatialDropout2D(drop)(x)\n",
        "    x = conv2d(64, 3, l4_stride, 4)(x)\n",
        "    x = SpatialDropout2D(drop)(x)\n",
        "    x = conv2d(64, 3, 1, 5)(x)\n",
        "    x = SpatialDropout2D(drop)(x)\n",
        "    x = Flatten(name='flattened')(x)\n",
        "    return x"
      ]
    },
    {
      "cell_type": "code",
      "execution_count": null,
      "id": "7038d019",
      "metadata": {
        "id": "7038d019"
      },
      "outputs": [],
      "source": [
        "def default_n_linear(num_outputs, input_shape=(120, 160, 3)):\n",
        "    drop = 0.2\n",
        "    img_in = Input(shape=input_shape, name='img_in')\n",
        "    x = core_cnn_layers(img_in, drop)\n",
        "    x = Dense(100, activation='tanh', name='dense_1')(x)\n",
        "    x = Dropout(drop)(x)\n",
        "    x = Dense(50, activation='tanh', name='dense_2')(x)\n",
        "    x = Dropout(drop)(x)\n",
        "\n",
        "    outputs = Dense(2, activation = 'sigmoid', name = 'outputs')(x)\n",
        "\n",
        "    model = Model(inputs=[img_in], outputs=outputs, name='linear')\n",
        "    return model"
      ]
    },
    {
      "cell_type": "code",
      "execution_count": null,
      "id": "d703a03f",
      "metadata": {
        "id": "d703a03f"
      },
      "outputs": [],
      "source": [
        "model = default_n_linear(2, input_shape = (224,224,3))"
      ]
    },
    {
      "cell_type": "markdown",
      "source": [
        "# Data preprocessing"
      ],
      "metadata": {
        "id": "MRs4MuFoy1sw"
      },
      "id": "MRs4MuFoy1sw"
    },
    {
      "cell_type": "code",
      "execution_count": null,
      "id": "76373383",
      "metadata": {
        "colab": {
          "base_uri": "https://localhost:8080/"
        },
        "id": "76373383",
        "outputId": "62a3b0f1-7ea4-40de-faec-e5d70dfc3931"
      },
      "outputs": [
        {
          "output_type": "execute_result",
          "data": {
            "text/plain": [
              "(8739,)"
            ]
          },
          "metadata": {},
          "execution_count": 6
        }
      ],
      "source": [
        "throttle = np.array(throttle)\n",
        "steering = np.array(angle)\n",
        "throttle.shape"
      ]
    },
    {
      "cell_type": "code",
      "execution_count": null,
      "id": "e7eb2516",
      "metadata": {
        "colab": {
          "base_uri": "https://localhost:8080/"
        },
        "id": "e7eb2516",
        "outputId": "c2433f5d-cbf9-46cc-c2a4-cf1db544105e"
      },
      "outputs": [
        {
          "output_type": "execute_result",
          "data": {
            "text/plain": [
              "(8739, 224, 224, 3)"
            ]
          },
          "metadata": {},
          "execution_count": 7
        }
      ],
      "source": [
        "train_img = (image)\n",
        "train_img.shape"
      ]
    },
    {
      "cell_type": "code",
      "execution_count": null,
      "id": "6d08f4e1",
      "metadata": {
        "id": "6d08f4e1",
        "colab": {
          "base_uri": "https://localhost:8080/"
        },
        "outputId": "51305088-2d98-4a86-fd1f-1321ef1e73fd"
      },
      "outputs": [
        {
          "output_type": "execute_result",
          "data": {
            "text/plain": [
              "((8739,), (array([0., 1.]), array([3847, 4892])))"
            ]
          },
          "metadata": {},
          "execution_count": 8
        }
      ],
      "source": [
        "label = steering #np.vstack([throttle,angle]).transpose()\n",
        "label = label + 1\n",
        "label.shape, np.unique(label, return_counts=True)"
      ]
    },
    {
      "cell_type": "code",
      "source": [
        "# clean the data if needed, in current track, the throttle(label) should only contain 0/1 (-1/0 + 1)\n",
        "\n",
        "label = label[np.where(label != 2)[0]]\n",
        "train_img = train_img[np.where(label != 2)[0]]\n",
        "train_img.shape, label.shape"
      ],
      "metadata": {
        "colab": {
          "base_uri": "https://localhost:8080/"
        },
        "id": "buH5JznfzhV4",
        "outputId": "bd8245e1-c81a-465b-ad43-9bdb958f52fa"
      },
      "id": "buH5JznfzhV4",
      "execution_count": null,
      "outputs": [
        {
          "output_type": "execute_result",
          "data": {
            "text/plain": [
              "((8739, 224, 224, 3), (8739,))"
            ]
          },
          "metadata": {},
          "execution_count": 9
        }
      ]
    },
    {
      "cell_type": "code",
      "source": [
        "# transfer to categorical label\n",
        "from keras.utils import to_categorical\n",
        "label = to_categorical(label)\n",
        "label.shape, np.unique(label, return_counts=True)"
      ],
      "metadata": {
        "colab": {
          "base_uri": "https://localhost:8080/"
        },
        "id": "KDHYycdDzSYR",
        "outputId": "107bbcca-1b84-405d-96f3-9277540eea24"
      },
      "id": "KDHYycdDzSYR",
      "execution_count": null,
      "outputs": [
        {
          "output_type": "execute_result",
          "data": {
            "text/plain": [
              "((8739, 2), (array([0., 1.], dtype=float32), array([8739, 8739])))"
            ]
          },
          "metadata": {},
          "execution_count": 10
        }
      ]
    },
    {
      "cell_type": "code",
      "source": [
        "import cv2\n",
        "from google.colab.patches import cv2_imshow\n",
        "cv2_imshow(train_img[0][80:224])"
      ],
      "metadata": {
        "colab": {
          "base_uri": "https://localhost:8080/",
          "height": 161
        },
        "id": "9nEZl-KG1BVv",
        "outputId": "909893d5-c7e7-433d-9e57-25d1b3bcc960"
      },
      "id": "9nEZl-KG1BVv",
      "execution_count": null,
      "outputs": [
        {
          "output_type": "display_data",
          "data": {
            "text/plain": [
              "<PIL.Image.Image image mode=RGB size=224x144 at 0x7FD609F3A5B0>"
            ],
            "image/png": "[encoded data removed]"
          },
          "metadata": {}
        }
      ]
    },
    {
      "cell_type": "code",
      "source": [
        "train_img = np.mean(train_img,axis = 3)\n",
        "train_img_cut = train_img[:,80:224,:]\n",
        "train_img_cut.shape,train_img.shape"
      ],
      "metadata": {
        "colab": {
          "base_uri": "https://localhost:8080/"
        },
        "id": "_iZLQyeT1JpM",
        "outputId": "71f4d490-bd0a-4686-c1fd-c6f80460f96e"
      },
      "id": "_iZLQyeT1JpM",
      "execution_count": null,
      "outputs": [
        {
          "output_type": "execute_result",
          "data": {
            "text/plain": [
              "(8739, 224, 224)"
            ]
          },
          "metadata": {},
          "execution_count": 12
        }
      ]
    },
    {
      "cell_type": "code",
      "source": [
        "seg_thres = np.mean(train_img) + 2*np.std(train_img)\n",
        "seg_thres"
      ],
      "metadata": {
        "colab": {
          "base_uri": "https://localhost:8080/"
        },
        "id": "YeC2yoEt51Gv",
        "outputId": "d5f46378-3b7a-493b-ec34-8820dff418c6"
      },
      "id": "YeC2yoEt51Gv",
      "execution_count": null,
      "outputs": [
        {
          "output_type": "execute_result",
          "data": {
            "text/plain": [
              "203.60605147368386"
            ]
          },
          "metadata": {},
          "execution_count": 58
        }
      ]
    },
    {
      "cell_type": "code",
      "source": [
        "for i in range(train_img.shape[0]):\n",
        "  train_img_cut[i][np.where(train_img_cut[i] > seg_thres) ] = 255\n",
        "  train_img_cut[i][np.where(train_img_cut[i] <= seg_thres)] = 0\n",
        "  cv2.imwrite('/content/seg_data/' + str(i) + '.jpg', train_img_cut[i])"
      ],
      "metadata": {
        "id": "7SUwRNMdIHz_"
      },
      "id": "7SUwRNMdIHz_",
      "execution_count": null,
      "outputs": []
    },
    {
      "cell_type": "code",
      "source": [
        "#train_img[87][np.where(train_img[87] > seg_thres) ] = 255\n",
        "#train_img[87][np.where(train_img[87] <= seg_thres)] = 0"
      ],
      "metadata": {
        "id": "OO8-Uq2cA90_"
      },
      "id": "OO8-Uq2cA90_",
      "execution_count": null,
      "outputs": []
    },
    {
      "cell_type": "code",
      "source": [
        "import cv2\n",
        "from google.colab.patches import cv2_imshow\n",
        "cv2_imshow(train_img[100][80:224])\n",
        "#np.where(train_img[95][80:224] == 255)\n"
      ],
      "metadata": {
        "id": "-2a69sNv6C3p",
        "colab": {
          "base_uri": "https://localhost:8080/",
          "height": 161
        },
        "outputId": "9a1d17ab-7a43-462a-b5d4-3b26bfe7eb7a"
      },
      "id": "-2a69sNv6C3p",
      "execution_count": null,
      "outputs": [
        {
          "output_type": "display_data",
          "data": {
            "text/plain": [
              "<PIL.Image.Image image mode=L size=224x144 at 0x7FD61A03AAC0>"
            ],
            "image/png": "[encoded data removed]"
          },
          "metadata": {}
        }
      ]
    },
    {
      "cell_type": "code",
      "source": [
        "np.unique(train_img[87])"
      ],
      "metadata": {
        "colab": {
          "base_uri": "https://localhost:8080/"
        },
        "id": "VqhEjcpfEe0Y",
        "outputId": "6c5ba525-8e1b-4165-b661-f5358c9ccafe"
      },
      "id": "VqhEjcpfEe0Y",
      "execution_count": null,
      "outputs": [
        {
          "output_type": "execute_result",
          "data": {
            "text/plain": [
              "array([  0, 255], dtype=uint8)"
            ]
          },
          "metadata": {},
          "execution_count": 79
        }
      ]
    },
    {
      "cell_type": "code",
      "source": [],
      "metadata": {
        "id": "ylTA57d6E9b9"
      },
      "id": "ylTA57d6E9b9",
      "execution_count": null,
      "outputs": []
    },
    {
      "cell_type": "code",
      "source": [
        "print(train_img[87])"
      ],
      "metadata": {
        "colab": {
          "base_uri": "https://localhost:8080/"
        },
        "id": "ePGlH2GS96cO",
        "outputId": "38db268d-58ce-4e15-fe00-47d2e365a9e8"
      },
      "id": "ePGlH2GS96cO",
      "execution_count": null,
      "outputs": [
        {
          "output_type": "stream",
          "name": "stdout",
          "text": [
            "[[[255 255 255]\n",
            "  [255 255 255]\n",
            "  [255 255 255]\n",
            "  ...\n",
            "  [  0   0   0]\n",
            "  [  0   0   0]\n",
            "  [  0   0 255]]\n",
            "\n",
            " [[  0   0   0]\n",
            "  [  0   0   0]\n",
            "  [255 255 255]\n",
            "  ...\n",
            "  [  0   0   0]\n",
            "  [  0   0   0]\n",
            "  [  0   0 255]]\n",
            "\n",
            " [[  0   0   0]\n",
            "  [  0   0   0]\n",
            "  [  0   0   0]\n",
            "  ...\n",
            "  [  0   0   0]\n",
            "  [  0   0 255]\n",
            "  [  0   0 255]]\n",
            "\n",
            " ...\n",
            "\n",
            " [[  0   0   0]\n",
            "  [  0   0   0]\n",
            "  [  0   0   0]\n",
            "  ...\n",
            "  [  0   0   0]\n",
            "  [  0   0   0]\n",
            "  [  0   0   0]]\n",
            "\n",
            " [[  0   0   0]\n",
            "  [  0   0   0]\n",
            "  [  0   0   0]\n",
            "  ...\n",
            "  [  0   0   0]\n",
            "  [  0   0   0]\n",
            "  [  0   0   0]]\n",
            "\n",
            " [[  0   0   0]\n",
            "  [  0   0   0]\n",
            "  [  0   0   0]\n",
            "  ...\n",
            "  [  0   0   0]\n",
            "  [  0   0   0]\n",
            "  [  0   0   0]]]\n"
          ]
        }
      ]
    },
    {
      "cell_type": "markdown",
      "source": [
        "# Traning"
      ],
      "metadata": {
        "id": "ARC9Rt0o0-eM"
      },
      "id": "ARC9Rt0o0-eM"
    },
    {
      "cell_type": "code",
      "execution_count": null,
      "id": "0556c215",
      "metadata": {
        "id": "0556c215"
      },
      "outputs": [],
      "source": [
        "optimizer = tf.optimizers.Adam(learning_rate = 0.001, beta_1 = 0.9, beta_2 = 0.999)"
      ]
    },
    {
      "cell_type": "code",
      "execution_count": null,
      "id": "214cda8c",
      "metadata": {
        "id": "214cda8c"
      },
      "outputs": [],
      "source": [
        "model.compile(optimizer = optimizer, loss = keras.losses.CategoricalCrossentropy(), metrics = [keras.losses.CategoricalCrossentropy()])"
      ]
    },
    {
      "cell_type": "code",
      "execution_count": null,
      "id": "3340b47c",
      "metadata": {
        "id": "3340b47c"
      },
      "outputs": [],
      "source": [
        "trained_model = model.fit(train_img, label, epochs = 500, batch_size = 100) #too larege???"
      ]
    },
    {
      "cell_type": "code",
      "execution_count": null,
      "id": "1e38fbb4",
      "metadata": {
        "id": "1e38fbb4"
      },
      "outputs": [],
      "source": [
        "model.save(\"mse_10000img.h5\")"
      ]
    }
  ],
  "metadata": {
    "kernelspec": {
      "display_name": "Python 3 (ipykernel)",
      "language": "python",
      "name": "python3"
    },
    "language_info": {
      "codemirror_mode": {
        "name": "ipython",
        "version": 3
      },
      "file_extension": ".py",
      "mimetype": "text/x-python",
      "name": "python",
      "nbconvert_exporter": "python",
      "pygments_lexer": "ipython3",
      "version": "3.9.12"
    },
    "colab": {
      "provenance": [],
      "collapsed_sections": [
        "KOJG_TJzyt5l"
      ],
      "include_colab_link": true
    },
    "accelerator": "GPU",
    "gpuClass": "premium"
  },
  "nbformat": 4,
  "nbformat_minor": 5
}